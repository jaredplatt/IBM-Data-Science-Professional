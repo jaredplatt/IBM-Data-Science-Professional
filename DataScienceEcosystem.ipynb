{
 "cells": [
  {
   "cell_type": "markdown",
   "id": "e1097af9-a7c3-4a04-afee-ed5a3c253933",
   "metadata": {},
   "source": [
    "# Data Science Tools and Ecosystem\n"
   ]
  },
  {
   "cell_type": "markdown",
   "id": "9465c571-a5f3-4302-8de7-c43e20591179",
   "metadata": {},
   "source": [
    "### In this notebook, Data Science Tools and Ecosystem are summarized."
   ]
  },
  {
   "cell_type": "markdown",
   "id": "2f9526f8-fa87-4782-97b3-c1fd5f8b8836",
   "metadata": {},
   "source": [
    "#### __Objectives:__\n",
    "- List popular languages for data science\n",
    "- List commonly used libraries for data science\n",
    "- List data science tools\n",
    "- Provide examples of arithmetic expressions in Python"
   ]
  },
  {
   "cell_type": "markdown",
   "id": "50a440dd-dd9c-4843-9186-bf3f20d08937",
   "metadata": {},
   "source": [
    "##### Some of the popular languages that Data Scientists use are:\n",
    "1. Python\n",
    "2. R\n",
    "3. Scala\n",
    "4. Julia"
   ]
  },
  {
   "cell_type": "markdown",
   "id": "352bcbdb-d62b-4b11-9f31-e1c74fe7a1b1",
   "metadata": {},
   "source": [
    "##### Some of the commonly used libraries used by Data Scientists include:\n",
    "\n",
    "1. Pandas\n",
    "2. NumPy\n",
    "3. Matplotlib\n",
    "4. Scikit-learn\n",
    "5. Vegas\n",
    "6. ggplot2\n",
    "   "
   ]
  },
  {
   "cell_type": "markdown",
   "id": "7deea579-feb1-4ed4-a4a9-9385bfb34774",
   "metadata": {},
   "source": [
    "|Data Science Tools|\n",
    "|------------------|\n",
    "|MySQL|\n",
    "|Watson Studio|\n",
    "|Apache Spark|\n"
   ]
  },
  {
   "cell_type": "markdown",
   "id": "c77de783-c10d-46f3-9be9-997664ba4239",
   "metadata": {},
   "source": [
    "### Below are a few examples of evaluating arithmetic expressions in Python"
   ]
  },
  {
   "cell_type": "code",
   "execution_count": 10,
   "id": "d3632f5e-9bf6-4d61-86a1-4c68efb17260",
   "metadata": {},
   "outputs": [
    {
     "data": {
      "text/plain": [
       "17"
      ]
     },
     "execution_count": 10,
     "metadata": {},
     "output_type": "execute_result"
    }
   ],
   "source": [
    "# This is a simple arithmetic expression to multiply then add integers.\n",
    "(3*4)+5"
   ]
  },
  {
   "cell_type": "code",
   "execution_count": 11,
   "id": "0dd79844-6e5f-48a7-bbce-8e75be996d8a",
   "metadata": {},
   "outputs": [
    {
     "name": "stdout",
     "output_type": "stream",
     "text": [
      "3.3333333333333335\n",
      "hours\n"
     ]
    }
   ],
   "source": [
    "# This operation will convert 200 minutes to hours by dividing by 60.\n",
    "\n",
    "# define variable \"minutes\"\n",
    "minutes = 200\n",
    "# divide by 60 to yield hours\n",
    "hours = minutes/60\n",
    "# display number of hours\n",
    "print (hours) \n",
    "print (\"hours\")\n",
    "\n"
   ]
  },
  {
   "cell_type": "markdown",
   "id": "1c922921-5717-4677-a2d3-b9d089d97118",
   "metadata": {},
   "source": [
    "## Author\n",
    "Jared Platt\n"
   ]
  },
  {
   "cell_type": "code",
   "execution_count": null,
   "id": "41a964c5-b7de-495e-b7ed-fc4729dd4c0e",
   "metadata": {},
   "outputs": [],
   "source": []
  }
 ],
 "metadata": {
  "kernelspec": {
   "display_name": "Python 3 (ipykernel)",
   "language": "python",
   "name": "python3"
  },
  "language_info": {
   "codemirror_mode": {
    "name": "ipython",
    "version": 3
   },
   "file_extension": ".py",
   "mimetype": "text/x-python",
   "name": "python",
   "nbconvert_exporter": "python",
   "pygments_lexer": "ipython3",
   "version": "3.11.5"
  }
 },
 "nbformat": 4,
 "nbformat_minor": 5
}
